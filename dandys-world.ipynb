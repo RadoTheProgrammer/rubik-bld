{
 "cells": [
  {
   "cell_type": "code",
   "execution_count": 15,
   "id": "0fd81bcb",
   "metadata": {},
   "outputs": [],
   "source": [
    "SKILLS = [\"Skill Check\",\"Movement Speed\",\"Stamina\",\"Stealth\",\"Extraction Speed\"]\n",
    "N_SKILLS = len(SKILLS)\n",
    "STARS = list(range(1,6))\n",
    "N_STARS = len(STARS)"
   ]
  },
  {
   "cell_type": "code",
   "execution_count": 17,
   "id": "aa98a96d",
   "metadata": {},
   "outputs": [
    {
     "name": "stdout",
     "output_type": "stream",
     "text": [
      "3125\n",
      "3125\n",
      "3125\n",
      "3125\n",
      "3125\n"
     ]
    }
   ],
   "source": [
    "dfd = {}\n",
    "for i,skill in enumerate(SKILLS):\n",
    "    data = []\n",
    "    for star in STARS:\n",
    "        data += [star] * N_STARS**(N_SKILLS-i-1)\n",
    "    data *= N_STARS**i\n",
    "    print(len(data))\n",
    "    dfd[skill] = data"
   ]
  },
  {
   "cell_type": "code",
   "execution_count": 19,
   "id": "d3cc44c9",
   "metadata": {},
   "outputs": [],
   "source": [
    "import pandas as pd\n",
    "\n",
    "df = pd.DataFrame(dfd)"
   ]
  },
  {
   "cell_type": "code",
   "execution_count": 21,
   "id": "433b65da",
   "metadata": {},
   "outputs": [],
   "source": [
    "row_sums = df.sum(axis=1)"
   ]
  },
  {
   "cell_type": "code",
   "execution_count": 28,
   "id": "f193c218",
   "metadata": {},
   "outputs": [],
   "source": [
    "df_main = df[row_sums==15]"
   ]
  },
  {
   "cell_type": "code",
   "execution_count": 29,
   "id": "0d7ffcca",
   "metadata": {},
   "outputs": [
    {
     "data": {
      "application/vnd.microsoft.datawrangler.viewer.v0+json": {
       "columns": [
        {
         "name": "index",
         "rawType": "int64",
         "type": "integer"
        },
        {
         "name": "Skill Check",
         "rawType": "int64",
         "type": "integer"
        },
        {
         "name": "Movement Speed",
         "rawType": "int64",
         "type": "integer"
        },
        {
         "name": "Stamina",
         "rawType": "int64",
         "type": "integer"
        },
        {
         "name": "Stealth",
         "rawType": "int64",
         "type": "integer"
        },
        {
         "name": "Extraction Speed",
         "rawType": "int64",
         "type": "integer"
        }
       ],
       "ref": "71736eef-0b16-4f2b-9a6d-de802f048851",
       "rows": [
        [
         "74",
         "1",
         "1",
         "3",
         "5",
         "5"
        ],
        [
         "94",
         "1",
         "1",
         "4",
         "4",
         "5"
        ],
        [
         "98",
         "1",
         "1",
         "4",
         "5",
         "4"
        ],
        [
         "114",
         "1",
         "1",
         "5",
         "3",
         "5"
        ],
        [
         "118",
         "1",
         "1",
         "5",
         "4",
         "4"
        ],
        [
         "122",
         "1",
         "1",
         "5",
         "5",
         "3"
        ],
        [
         "174",
         "1",
         "2",
         "2",
         "5",
         "5"
        ],
        [
         "194",
         "1",
         "2",
         "3",
         "4",
         "5"
        ],
        [
         "198",
         "1",
         "2",
         "3",
         "5",
         "4"
        ],
        [
         "214",
         "1",
         "2",
         "4",
         "3",
         "5"
        ],
        [
         "218",
         "1",
         "2",
         "4",
         "4",
         "4"
        ],
        [
         "222",
         "1",
         "2",
         "4",
         "5",
         "3"
        ],
        [
         "234",
         "1",
         "2",
         "5",
         "2",
         "5"
        ],
        [
         "238",
         "1",
         "2",
         "5",
         "3",
         "4"
        ],
        [
         "242",
         "1",
         "2",
         "5",
         "4",
         "3"
        ],
        [
         "246",
         "1",
         "2",
         "5",
         "5",
         "2"
        ],
        [
         "274",
         "1",
         "3",
         "1",
         "5",
         "5"
        ],
        [
         "294",
         "1",
         "3",
         "2",
         "4",
         "5"
        ],
        [
         "298",
         "1",
         "3",
         "2",
         "5",
         "4"
        ],
        [
         "314",
         "1",
         "3",
         "3",
         "3",
         "5"
        ],
        [
         "318",
         "1",
         "3",
         "3",
         "4",
         "4"
        ],
        [
         "322",
         "1",
         "3",
         "3",
         "5",
         "3"
        ],
        [
         "334",
         "1",
         "3",
         "4",
         "2",
         "5"
        ],
        [
         "338",
         "1",
         "3",
         "4",
         "3",
         "4"
        ],
        [
         "342",
         "1",
         "3",
         "4",
         "4",
         "3"
        ],
        [
         "346",
         "1",
         "3",
         "4",
         "5",
         "2"
        ],
        [
         "354",
         "1",
         "3",
         "5",
         "1",
         "5"
        ],
        [
         "358",
         "1",
         "3",
         "5",
         "2",
         "4"
        ],
        [
         "362",
         "1",
         "3",
         "5",
         "3",
         "3"
        ],
        [
         "366",
         "1",
         "3",
         "5",
         "4",
         "2"
        ],
        [
         "370",
         "1",
         "3",
         "5",
         "5",
         "1"
        ],
        [
         "394",
         "1",
         "4",
         "1",
         "4",
         "5"
        ],
        [
         "398",
         "1",
         "4",
         "1",
         "5",
         "4"
        ],
        [
         "414",
         "1",
         "4",
         "2",
         "3",
         "5"
        ],
        [
         "418",
         "1",
         "4",
         "2",
         "4",
         "4"
        ],
        [
         "422",
         "1",
         "4",
         "2",
         "5",
         "3"
        ],
        [
         "434",
         "1",
         "4",
         "3",
         "2",
         "5"
        ],
        [
         "438",
         "1",
         "4",
         "3",
         "3",
         "4"
        ],
        [
         "442",
         "1",
         "4",
         "3",
         "4",
         "3"
        ],
        [
         "446",
         "1",
         "4",
         "3",
         "5",
         "2"
        ],
        [
         "454",
         "1",
         "4",
         "4",
         "1",
         "5"
        ],
        [
         "458",
         "1",
         "4",
         "4",
         "2",
         "4"
        ],
        [
         "462",
         "1",
         "4",
         "4",
         "3",
         "3"
        ],
        [
         "466",
         "1",
         "4",
         "4",
         "4",
         "2"
        ],
        [
         "470",
         "1",
         "4",
         "4",
         "5",
         "1"
        ],
        [
         "478",
         "1",
         "4",
         "5",
         "1",
         "4"
        ],
        [
         "482",
         "1",
         "4",
         "5",
         "2",
         "3"
        ],
        [
         "486",
         "1",
         "4",
         "5",
         "3",
         "2"
        ],
        [
         "490",
         "1",
         "4",
         "5",
         "4",
         "1"
        ],
        [
         "514",
         "1",
         "5",
         "1",
         "3",
         "5"
        ]
       ],
       "shape": {
        "columns": 5,
        "rows": 381
       }
      },
      "text/html": [
       "<div>\n",
       "<style scoped>\n",
       "    .dataframe tbody tr th:only-of-type {\n",
       "        vertical-align: middle;\n",
       "    }\n",
       "\n",
       "    .dataframe tbody tr th {\n",
       "        vertical-align: top;\n",
       "    }\n",
       "\n",
       "    .dataframe thead th {\n",
       "        text-align: right;\n",
       "    }\n",
       "</style>\n",
       "<table border=\"1\" class=\"dataframe\">\n",
       "  <thead>\n",
       "    <tr style=\"text-align: right;\">\n",
       "      <th></th>\n",
       "      <th>Skill Check</th>\n",
       "      <th>Movement Speed</th>\n",
       "      <th>Stamina</th>\n",
       "      <th>Stealth</th>\n",
       "      <th>Extraction Speed</th>\n",
       "    </tr>\n",
       "  </thead>\n",
       "  <tbody>\n",
       "    <tr>\n",
       "      <th>74</th>\n",
       "      <td>1</td>\n",
       "      <td>1</td>\n",
       "      <td>3</td>\n",
       "      <td>5</td>\n",
       "      <td>5</td>\n",
       "    </tr>\n",
       "    <tr>\n",
       "      <th>94</th>\n",
       "      <td>1</td>\n",
       "      <td>1</td>\n",
       "      <td>4</td>\n",
       "      <td>4</td>\n",
       "      <td>5</td>\n",
       "    </tr>\n",
       "    <tr>\n",
       "      <th>98</th>\n",
       "      <td>1</td>\n",
       "      <td>1</td>\n",
       "      <td>4</td>\n",
       "      <td>5</td>\n",
       "      <td>4</td>\n",
       "    </tr>\n",
       "    <tr>\n",
       "      <th>114</th>\n",
       "      <td>1</td>\n",
       "      <td>1</td>\n",
       "      <td>5</td>\n",
       "      <td>3</td>\n",
       "      <td>5</td>\n",
       "    </tr>\n",
       "    <tr>\n",
       "      <th>118</th>\n",
       "      <td>1</td>\n",
       "      <td>1</td>\n",
       "      <td>5</td>\n",
       "      <td>4</td>\n",
       "      <td>4</td>\n",
       "    </tr>\n",
       "    <tr>\n",
       "      <th>...</th>\n",
       "      <td>...</td>\n",
       "      <td>...</td>\n",
       "      <td>...</td>\n",
       "      <td>...</td>\n",
       "      <td>...</td>\n",
       "    </tr>\n",
       "    <tr>\n",
       "      <th>3006</th>\n",
       "      <td>5</td>\n",
       "      <td>5</td>\n",
       "      <td>1</td>\n",
       "      <td>2</td>\n",
       "      <td>2</td>\n",
       "    </tr>\n",
       "    <tr>\n",
       "      <th>3010</th>\n",
       "      <td>5</td>\n",
       "      <td>5</td>\n",
       "      <td>1</td>\n",
       "      <td>3</td>\n",
       "      <td>1</td>\n",
       "    </tr>\n",
       "    <tr>\n",
       "      <th>3026</th>\n",
       "      <td>5</td>\n",
       "      <td>5</td>\n",
       "      <td>2</td>\n",
       "      <td>1</td>\n",
       "      <td>2</td>\n",
       "    </tr>\n",
       "    <tr>\n",
       "      <th>3030</th>\n",
       "      <td>5</td>\n",
       "      <td>5</td>\n",
       "      <td>2</td>\n",
       "      <td>2</td>\n",
       "      <td>1</td>\n",
       "    </tr>\n",
       "    <tr>\n",
       "      <th>3050</th>\n",
       "      <td>5</td>\n",
       "      <td>5</td>\n",
       "      <td>3</td>\n",
       "      <td>1</td>\n",
       "      <td>1</td>\n",
       "    </tr>\n",
       "  </tbody>\n",
       "</table>\n",
       "<p>381 rows × 5 columns</p>\n",
       "</div>"
      ],
      "text/plain": [
       "      Skill Check  Movement Speed  Stamina  Stealth  Extraction Speed\n",
       "74              1               1        3        5                 5\n",
       "94              1               1        4        4                 5\n",
       "98              1               1        4        5                 4\n",
       "114             1               1        5        3                 5\n",
       "118             1               1        5        4                 4\n",
       "...           ...             ...      ...      ...               ...\n",
       "3006            5               5        1        2                 2\n",
       "3010            5               5        1        3                 1\n",
       "3026            5               5        2        1                 2\n",
       "3030            5               5        2        2                 1\n",
       "3050            5               5        3        1                 1\n",
       "\n",
       "[381 rows x 5 columns]"
      ]
     },
     "execution_count": 29,
     "metadata": {},
     "output_type": "execute_result"
    }
   ],
   "source": [
    "df_main"
   ]
  },
  {
   "cell_type": "code",
   "execution_count": 33,
   "id": "20dec630",
   "metadata": {},
   "outputs": [
    {
     "data": {
      "text/plain": [
       "<BarContainer object of 25 artists>"
      ]
     },
     "execution_count": 33,
     "metadata": {},
     "output_type": "execute_result"
    },
    {
     "data": {
      "image/png": "[encoded data removed]",
      "text/plain": [
       "<Figure size 640x480 with 1 Axes>"
      ]
     },
     "metadata": {},
     "output_type": "display_data"
    }
   ],
   "source": [
    "sums = list(range(25))\n",
    "sums_values = [len(df[row_sums==s]) for s in sums]\n",
    "import matplotlib.pyplot as plt\n",
    "\n",
    "plt.bar(sums,sums_values)\n"
   ]
  }
 ],
 "metadata": {
  "kernelspec": {
   "display_name": "Python 3",
   "language": "python",
   "name": "python3"
  },
  "language_info": {
   "codemirror_mode": {
    "name": "ipython",
    "version": 3
   },
   "file_extension": ".py",
   "mimetype": "text/x-python",
   "name": "python",
   "nbconvert_exporter": "python",
   "pygments_lexer": "ipython3",
   "version": "3.13.3"
  }
 },
 "nbformat": 4,
 "nbformat_minor": 5
}
